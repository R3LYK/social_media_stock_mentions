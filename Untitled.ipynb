{
 "cells": [
  {
   "cell_type": "code",
   "execution_count": 1,
   "id": "302e1020",
   "metadata": {},
   "outputs": [],
   "source": [
    "import pandas"
   ]
  },
  {
   "cell_type": "code",
   "execution_count": 5,
   "id": "5089b1d0",
   "metadata": {},
   "outputs": [],
   "source": [
    "df = pandas.read_csv('./wsb_comments.csv')"
   ]
  },
  {
   "cell_type": "code",
   "execution_count": 6,
   "id": "76e8b962",
   "metadata": {},
   "outputs": [
    {
     "data": {
      "text/html": [
       "<div>\n",
       "<style scoped>\n",
       "    .dataframe tbody tr th:only-of-type {\n",
       "        vertical-align: middle;\n",
       "    }\n",
       "\n",
       "    .dataframe tbody tr th {\n",
       "        vertical-align: top;\n",
       "    }\n",
       "\n",
       "    .dataframe thead th {\n",
       "        text-align: right;\n",
       "    }\n",
       "</style>\n",
       "<table border=\"1\" class=\"dataframe\">\n",
       "  <thead>\n",
       "    <tr style=\"text-align: right;\">\n",
       "      <th></th>\n",
       "      <th>all_awardings</th>\n",
       "      <th>associated_award</th>\n",
       "      <th>author</th>\n",
       "      <th>author_flair_background_color</th>\n",
       "      <th>author_flair_css_class</th>\n",
       "      <th>author_flair_richtext</th>\n",
       "      <th>author_flair_template_id</th>\n",
       "      <th>author_flair_text</th>\n",
       "      <th>author_flair_text_color</th>\n",
       "      <th>author_flair_type</th>\n",
       "      <th>...</th>\n",
       "      <th>can_gild</th>\n",
       "      <th>collapsed</th>\n",
       "      <th>collapsed_reason</th>\n",
       "      <th>controversiality</th>\n",
       "      <th>distinguished</th>\n",
       "      <th>gilded</th>\n",
       "      <th>retrieved_utc</th>\n",
       "      <th>score_hidden</th>\n",
       "      <th>subreddit_name_prefixed</th>\n",
       "      <th>subreddit_type</th>\n",
       "    </tr>\n",
       "  </thead>\n",
       "  <tbody>\n",
       "    <tr>\n",
       "      <th>0</th>\n",
       "      <td>[]</td>\n",
       "      <td>NaN</td>\n",
       "      <td>icescoop</td>\n",
       "      <td>NaN</td>\n",
       "      <td>NaN</td>\n",
       "      <td>[]</td>\n",
       "      <td>NaN</td>\n",
       "      <td>NaN</td>\n",
       "      <td>NaN</td>\n",
       "      <td>text</td>\n",
       "      <td>...</td>\n",
       "      <td>NaN</td>\n",
       "      <td>NaN</td>\n",
       "      <td>NaN</td>\n",
       "      <td>NaN</td>\n",
       "      <td>NaN</td>\n",
       "      <td>NaN</td>\n",
       "      <td>NaN</td>\n",
       "      <td>NaN</td>\n",
       "      <td>NaN</td>\n",
       "      <td>NaN</td>\n",
       "    </tr>\n",
       "    <tr>\n",
       "      <th>1</th>\n",
       "      <td>[]</td>\n",
       "      <td>NaN</td>\n",
       "      <td>geniusmanchild</td>\n",
       "      <td>NaN</td>\n",
       "      <td>NaN</td>\n",
       "      <td>[{'e': 'text', 't': 'Mid-40s Potbellied Hedge ...</td>\n",
       "      <td>NaN</td>\n",
       "      <td>Mid-40s Potbellied Hedge Fund MD</td>\n",
       "      <td>dark</td>\n",
       "      <td>richtext</td>\n",
       "      <td>...</td>\n",
       "      <td>NaN</td>\n",
       "      <td>NaN</td>\n",
       "      <td>NaN</td>\n",
       "      <td>NaN</td>\n",
       "      <td>NaN</td>\n",
       "      <td>NaN</td>\n",
       "      <td>NaN</td>\n",
       "      <td>NaN</td>\n",
       "      <td>NaN</td>\n",
       "      <td>NaN</td>\n",
       "    </tr>\n",
       "    <tr>\n",
       "      <th>2</th>\n",
       "      <td>[]</td>\n",
       "      <td>NaN</td>\n",
       "      <td>wsb_moonshot</td>\n",
       "      <td>transparent</td>\n",
       "      <td>NaN</td>\n",
       "      <td>[{'e': 'text', 't': '\"I do not bathe\"'}]</td>\n",
       "      <td>78806c26-46a2-11e9-82c1-0ee7a9b74720</td>\n",
       "      <td>\"I do not bathe\"</td>\n",
       "      <td>dark</td>\n",
       "      <td>richtext</td>\n",
       "      <td>...</td>\n",
       "      <td>NaN</td>\n",
       "      <td>NaN</td>\n",
       "      <td>NaN</td>\n",
       "      <td>NaN</td>\n",
       "      <td>NaN</td>\n",
       "      <td>NaN</td>\n",
       "      <td>NaN</td>\n",
       "      <td>NaN</td>\n",
       "      <td>NaN</td>\n",
       "      <td>NaN</td>\n",
       "    </tr>\n",
       "    <tr>\n",
       "      <th>3</th>\n",
       "      <td>[]</td>\n",
       "      <td>NaN</td>\n",
       "      <td>[deleted]</td>\n",
       "      <td>NaN</td>\n",
       "      <td>NaN</td>\n",
       "      <td>NaN</td>\n",
       "      <td>NaN</td>\n",
       "      <td>NaN</td>\n",
       "      <td>dark</td>\n",
       "      <td>NaN</td>\n",
       "      <td>...</td>\n",
       "      <td>NaN</td>\n",
       "      <td>NaN</td>\n",
       "      <td>NaN</td>\n",
       "      <td>NaN</td>\n",
       "      <td>NaN</td>\n",
       "      <td>NaN</td>\n",
       "      <td>NaN</td>\n",
       "      <td>NaN</td>\n",
       "      <td>NaN</td>\n",
       "      <td>NaN</td>\n",
       "    </tr>\n",
       "    <tr>\n",
       "      <th>4</th>\n",
       "      <td>[]</td>\n",
       "      <td>NaN</td>\n",
       "      <td>Aggravating_Exit_332</td>\n",
       "      <td>NaN</td>\n",
       "      <td>NaN</td>\n",
       "      <td>[]</td>\n",
       "      <td>NaN</td>\n",
       "      <td>NaN</td>\n",
       "      <td>NaN</td>\n",
       "      <td>text</td>\n",
       "      <td>...</td>\n",
       "      <td>NaN</td>\n",
       "      <td>NaN</td>\n",
       "      <td>NaN</td>\n",
       "      <td>NaN</td>\n",
       "      <td>NaN</td>\n",
       "      <td>NaN</td>\n",
       "      <td>NaN</td>\n",
       "      <td>NaN</td>\n",
       "      <td>NaN</td>\n",
       "      <td>NaN</td>\n",
       "    </tr>\n",
       "  </tbody>\n",
       "</table>\n",
       "<p>5 rows × 48 columns</p>\n",
       "</div>"
      ],
      "text/plain": [
       "  all_awardings  associated_award                author  \\\n",
       "0            []               NaN              icescoop   \n",
       "1            []               NaN        geniusmanchild   \n",
       "2            []               NaN          wsb_moonshot   \n",
       "3            []               NaN             [deleted]   \n",
       "4            []               NaN  Aggravating_Exit_332   \n",
       "\n",
       "  author_flair_background_color  author_flair_css_class  \\\n",
       "0                           NaN                     NaN   \n",
       "1                           NaN                     NaN   \n",
       "2                   transparent                     NaN   \n",
       "3                           NaN                     NaN   \n",
       "4                           NaN                     NaN   \n",
       "\n",
       "                               author_flair_richtext  \\\n",
       "0                                                 []   \n",
       "1  [{'e': 'text', 't': 'Mid-40s Potbellied Hedge ...   \n",
       "2           [{'e': 'text', 't': '\"I do not bathe\"'}]   \n",
       "3                                                NaN   \n",
       "4                                                 []   \n",
       "\n",
       "               author_flair_template_id                 author_flair_text  \\\n",
       "0                                   NaN                               NaN   \n",
       "1                                   NaN  Mid-40s Potbellied Hedge Fund MD   \n",
       "2  78806c26-46a2-11e9-82c1-0ee7a9b74720                  \"I do not bathe\"   \n",
       "3                                   NaN                               NaN   \n",
       "4                                   NaN                               NaN   \n",
       "\n",
       "  author_flair_text_color author_flair_type  ... can_gild collapsed  \\\n",
       "0                     NaN              text  ...      NaN       NaN   \n",
       "1                    dark          richtext  ...      NaN       NaN   \n",
       "2                    dark          richtext  ...      NaN       NaN   \n",
       "3                    dark               NaN  ...      NaN       NaN   \n",
       "4                     NaN              text  ...      NaN       NaN   \n",
       "\n",
       "  collapsed_reason controversiality distinguished  gilded retrieved_utc  \\\n",
       "0              NaN              NaN           NaN     NaN           NaN   \n",
       "1              NaN              NaN           NaN     NaN           NaN   \n",
       "2              NaN              NaN           NaN     NaN           NaN   \n",
       "3              NaN              NaN           NaN     NaN           NaN   \n",
       "4              NaN              NaN           NaN     NaN           NaN   \n",
       "\n",
       "   score_hidden  subreddit_name_prefixed subreddit_type  \n",
       "0           NaN                      NaN            NaN  \n",
       "1           NaN                      NaN            NaN  \n",
       "2           NaN                      NaN            NaN  \n",
       "3           NaN                      NaN            NaN  \n",
       "4           NaN                      NaN            NaN  \n",
       "\n",
       "[5 rows x 48 columns]"
      ]
     },
     "execution_count": 6,
     "metadata": {},
     "output_type": "execute_result"
    }
   ],
   "source": [
    "df.head()"
   ]
  },
  {
   "cell_type": "code",
   "execution_count": 7,
   "id": "ce9b2317",
   "metadata": {},
   "outputs": [
    {
     "data": {
      "text/plain": [
       "Index(['all_awardings', 'associated_award', 'author',\n",
       "       'author_flair_background_color', 'author_flair_css_class',\n",
       "       'author_flair_richtext', 'author_flair_template_id',\n",
       "       'author_flair_text', 'author_flair_text_color', 'author_flair_type',\n",
       "       'author_fullname', 'author_patreon_flair', 'author_premium', 'awarders',\n",
       "       'body', 'collapsed_because_crowd_control', 'collapsed_reason_code',\n",
       "       'comment_type', 'created_utc', 'gildings', 'id', 'is_submitter',\n",
       "       'link_id', 'locked', 'no_follow', 'parent_id', 'permalink',\n",
       "       'retrieved_on', 'score', 'send_replies', 'stickied', 'subreddit',\n",
       "       'subreddit_id', 'top_awarded_type', 'total_awards_received',\n",
       "       'treatment_tags', 'archived', 'body_sha1', 'can_gild', 'collapsed',\n",
       "       'collapsed_reason', 'controversiality', 'distinguished', 'gilded',\n",
       "       'retrieved_utc', 'score_hidden', 'subreddit_name_prefixed',\n",
       "       'subreddit_type'],\n",
       "      dtype='object')"
      ]
     },
     "execution_count": 7,
     "metadata": {},
     "output_type": "execute_result"
    }
   ],
   "source": [
    "df.columns"
   ]
  },
  {
   "cell_type": "code",
   "execution_count": 9,
   "id": "1b99e0c3",
   "metadata": {},
   "outputs": [
    {
     "data": {
      "text/plain": [
       "RangeIndex(start=0, stop=99, step=1)"
      ]
     },
     "execution_count": 9,
     "metadata": {},
     "output_type": "execute_result"
    }
   ],
   "source": [
    "df.index"
   ]
  },
  {
   "cell_type": "code",
   "execution_count": 10,
   "id": "53051e3d",
   "metadata": {},
   "outputs": [
    {
     "data": {
      "text/plain": [
       "array([['[]', nan, 'icescoop', ..., nan, nan, nan],\n",
       "       ['[]', nan, 'geniusmanchild', ..., nan, nan, nan],\n",
       "       ['[]', nan, 'wsb_moonshot', ..., nan, nan, nan],\n",
       "       ...,\n",
       "       ['[]', nan, 'Strict-Wrangler3721', ..., nan, nan, nan],\n",
       "       ['[]', nan, 'SkyrimNewb', ..., nan, nan, nan],\n",
       "       ['[]', nan, 'Queasy-Scene-6484', ..., nan, nan, nan]], dtype=object)"
      ]
     },
     "execution_count": 10,
     "metadata": {},
     "output_type": "execute_result"
    }
   ],
   "source": [
    "df.values"
   ]
  },
  {
   "cell_type": "code",
   "execution_count": 11,
   "id": "8bb3fdb6",
   "metadata": {},
   "outputs": [
    {
     "data": {
      "text/plain": [
       "pandas.core.frame.DataFrame"
      ]
     },
     "execution_count": 11,
     "metadata": {},
     "output_type": "execute_result"
    }
   ],
   "source": [
    "type(df)"
   ]
  },
  {
   "cell_type": "code",
   "execution_count": 12,
   "id": "33bc343c",
   "metadata": {},
   "outputs": [
    {
     "name": "stdout",
     "output_type": "stream",
     "text": [
      "<class 'pandas.core.frame.DataFrame'>\n",
      "RangeIndex: 99 entries, 0 to 98\n",
      "Data columns (total 48 columns):\n",
      " #   Column                           Non-Null Count  Dtype  \n",
      "---  ------                           --------------  -----  \n",
      " 0   all_awardings                    99 non-null     object \n",
      " 1   associated_award                 0 non-null      float64\n",
      " 2   author                           99 non-null     object \n",
      " 3   author_flair_background_color    9 non-null      object \n",
      " 4   author_flair_css_class           0 non-null      float64\n",
      " 5   author_flair_richtext            84 non-null     object \n",
      " 6   author_flair_template_id         9 non-null      object \n",
      " 7   author_flair_text                20 non-null     object \n",
      " 8   author_flair_text_color          35 non-null     object \n",
      " 9   author_flair_type                84 non-null     object \n",
      " 10  author_fullname                  84 non-null     object \n",
      " 11  author_patreon_flair             84 non-null     object \n",
      " 12  author_premium                   84 non-null     object \n",
      " 13  awarders                         97 non-null     object \n",
      " 14  body                             99 non-null     object \n",
      " 15  collapsed_because_crowd_control  0 non-null      float64\n",
      " 16  collapsed_reason_code            15 non-null     object \n",
      " 17  comment_type                     0 non-null      float64\n",
      " 18  created_utc                      99 non-null     int64  \n",
      " 19  gildings                         99 non-null     object \n",
      " 20  id                               99 non-null     object \n",
      " 21  is_submitter                     99 non-null     bool   \n",
      " 22  link_id                          99 non-null     object \n",
      " 23  locked                           99 non-null     bool   \n",
      " 24  no_follow                        99 non-null     bool   \n",
      " 25  parent_id                        99 non-null     object \n",
      " 26  permalink                        99 non-null     object \n",
      " 27  retrieved_on                     97 non-null     float64\n",
      " 28  score                            99 non-null     int64  \n",
      " 29  send_replies                     99 non-null     bool   \n",
      " 30  stickied                         99 non-null     bool   \n",
      " 31  subreddit                        99 non-null     object \n",
      " 32  subreddit_id                     99 non-null     object \n",
      " 33  top_awarded_type                 0 non-null      float64\n",
      " 34  total_awards_received            99 non-null     int64  \n",
      " 35  treatment_tags                   99 non-null     object \n",
      " 36  archived                         2 non-null      object \n",
      " 37  body_sha1                        2 non-null      object \n",
      " 38  can_gild                         2 non-null      object \n",
      " 39  collapsed                        2 non-null      object \n",
      " 40  collapsed_reason                 0 non-null      float64\n",
      " 41  controversiality                 2 non-null      float64\n",
      " 42  distinguished                    2 non-null      object \n",
      " 43  gilded                           2 non-null      float64\n",
      " 44  retrieved_utc                    2 non-null      float64\n",
      " 45  score_hidden                     2 non-null      object \n",
      " 46  subreddit_name_prefixed          2 non-null      object \n",
      " 47  subreddit_type                   2 non-null      object \n",
      "dtypes: bool(5), float64(10), int64(3), object(30)\n",
      "memory usage: 33.9+ KB\n"
     ]
    }
   ],
   "source": [
    "df.info()"
   ]
  },
  {
   "cell_type": "code",
   "execution_count": 28,
   "id": "da7a9339",
   "metadata": {},
   "outputs": [],
   "source": [
    "subset = df[['author', 'body', 'contraversiality']]"
   ]
  },
  {
   "cell_type": "code",
   "execution_count": 29,
   "id": "8aa11f81",
   "metadata": {},
   "outputs": [
    {
     "data": {
      "text/html": [
       "<div>\n",
       "<style scoped>\n",
       "    .dataframe tbody tr th:only-of-type {\n",
       "        vertical-align: middle;\n",
       "    }\n",
       "\n",
       "    .dataframe tbody tr th {\n",
       "        vertical-align: top;\n",
       "    }\n",
       "\n",
       "    .dataframe thead th {\n",
       "        text-align: right;\n",
       "    }\n",
       "</style>\n",
       "<table border=\"1\" class=\"dataframe\">\n",
       "  <thead>\n",
       "    <tr style=\"text-align: right;\">\n",
       "      <th></th>\n",
       "      <th>author</th>\n",
       "      <th>body</th>\n",
       "      <th>send_replies</th>\n",
       "    </tr>\n",
       "  </thead>\n",
       "  <tbody>\n",
       "    <tr>\n",
       "      <th>0</th>\n",
       "      <td>icescoop</td>\n",
       "      <td>More than that - IV crush + all below strikes ...</td>\n",
       "      <td>True</td>\n",
       "    </tr>\n",
       "    <tr>\n",
       "      <th>1</th>\n",
       "      <td>geniusmanchild</td>\n",
       "      <td>Slide into her DMs on LinkedIn</td>\n",
       "      <td>True</td>\n",
       "    </tr>\n",
       "    <tr>\n",
       "      <th>2</th>\n",
       "      <td>wsb_moonshot</td>\n",
       "      <td>nah, they have a half-life</td>\n",
       "      <td>True</td>\n",
       "    </tr>\n",
       "    <tr>\n",
       "      <th>3</th>\n",
       "      <td>[deleted]</td>\n",
       "      <td>[removed]</td>\n",
       "      <td>True</td>\n",
       "    </tr>\n",
       "    <tr>\n",
       "      <th>4</th>\n",
       "      <td>Aggravating_Exit_332</td>\n",
       "      <td>Puts huh?  You should be good getting out earl...</td>\n",
       "      <td>True</td>\n",
       "    </tr>\n",
       "  </tbody>\n",
       "</table>\n",
       "</div>"
      ],
      "text/plain": [
       "                 author                                               body  \\\n",
       "0              icescoop  More than that - IV crush + all below strikes ...   \n",
       "1        geniusmanchild                     Slide into her DMs on LinkedIn   \n",
       "2          wsb_moonshot                         nah, they have a half-life   \n",
       "3             [deleted]                                          [removed]   \n",
       "4  Aggravating_Exit_332  Puts huh?  You should be good getting out earl...   \n",
       "\n",
       "   send_replies  \n",
       "0          True  \n",
       "1          True  \n",
       "2          True  \n",
       "3          True  \n",
       "4          True  "
      ]
     },
     "execution_count": 29,
     "metadata": {},
     "output_type": "execute_result"
    }
   ],
   "source": [
    "subset.head()"
   ]
  },
  {
   "cell_type": "code",
   "execution_count": null,
   "id": "82f9b4dc",
   "metadata": {},
   "outputs": [],
   "source": []
  },
  {
   "cell_type": "code",
   "execution_count": null,
   "id": "222752e4",
   "metadata": {},
   "outputs": [],
   "source": []
  },
  {
   "cell_type": "code",
   "execution_count": null,
   "id": "adf54e4f",
   "metadata": {},
   "outputs": [],
   "source": []
  },
  {
   "cell_type": "code",
   "execution_count": null,
   "id": "37071881",
   "metadata": {},
   "outputs": [],
   "source": []
  },
  {
   "cell_type": "code",
   "execution_count": null,
   "id": "80d6ad4c",
   "metadata": {},
   "outputs": [],
   "source": []
  }
 ],
 "metadata": {
  "kernelspec": {
   "display_name": "Python 3 (ipykernel)",
   "language": "python",
   "name": "python3"
  },
  "language_info": {
   "codemirror_mode": {
    "name": "ipython",
    "version": 3
   },
   "file_extension": ".py",
   "mimetype": "text/x-python",
   "name": "python",
   "nbconvert_exporter": "python",
   "pygments_lexer": "ipython3",
   "version": "3.9.4"
  }
 },
 "nbformat": 4,
 "nbformat_minor": 5
}
